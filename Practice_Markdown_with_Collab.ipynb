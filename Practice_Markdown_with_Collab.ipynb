{
  "nbformat": 4,
  "nbformat_minor": 0,
  "metadata": {
    "colab": {
      "name": "Practice-Markdown-with-Collab.ipynb",
      "provenance": [],
      "authorship_tag": "ABX9TyNXnQ1rwSgy78wuUIBdgN1I",
      "include_colab_link": true
    },
    "kernelspec": {
      "name": "python3",
      "display_name": "Python 3"
    },
    "language_info": {
      "name": "python"
    }
  },
  "cells": [
    {
      "cell_type": "markdown",
      "metadata": {
        "id": "view-in-github",
        "colab_type": "text"
      },
      "source": [
        "<a href=\"https://colab.research.google.com/github/edilhairon/markdown-jupyter/blob/main/Practice_Markdown_with_Collab.ipynb\" target=\"_parent\"><img src=\"https://colab.research.google.com/assets/colab-badge.svg\" alt=\"Open In Colab\"/></a>"
      ]
    },
    {
      "cell_type": "code",
      "execution_count": 1,
      "metadata": {
        "colab": {
          "base_uri": "https://localhost:8080/"
        },
        "id": "ryt093KtcEfE",
        "outputId": "12038f40-cdb8-4ece-a11a-2b90345f6635"
      },
      "outputs": [
        {
          "output_type": "stream",
          "name": "stdout",
          "text": [
            "Hello World\n"
          ]
        }
      ],
      "source": [
        "print(\"Hello World\")"
      ]
    },
    {
      "cell_type": "markdown",
      "source": [
        "# Markdown Cell\n",
        "This is a simple application of markdown cell.\n",
        "\n",
        "* The code cell above prints a Python Hello World statement:  `print(\"hello world\")\n",
        "* This part of the notebook is a Markdown Cell with a Title\n",
        "* The bullet in this markdown cell uses `*`\n",
        "* You can also the authors [Github Project](https://github.com/edilhairon/introtocloud) and a [Google Colab](https://colab.research.google.com/drive/16jcaJoc6bCFAQ96jDe2HwtXj7BMD_-m5#scrollTo=W3zGtAQvZ72E)"
      ],
      "metadata": {
        "id": "Q8mOpoUmc55m"
      }
    }
  ]
}